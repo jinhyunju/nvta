{
 "cells": [
  {
   "cell_type": "markdown",
   "metadata": {},
   "source": [
    "# Importing Transcripts and Queries with `TranscriptMapper`"
   ]
  },
  {
   "cell_type": "code",
   "execution_count": 1,
   "metadata": {},
   "outputs": [],
   "source": [
    "from nvta.transcript_utils import TranscriptMapper"
   ]
  },
  {
   "cell_type": "markdown",
   "metadata": {},
   "source": [
    "### Example Inputs"
   ]
  },
  {
   "cell_type": "code",
   "execution_count": 2,
   "metadata": {},
   "outputs": [],
   "source": [
    "fileTranscriptInput = \"./tests/resources/example_transcript_input.tsv\"\n",
    "fileQueryInput = \"./tests/resources/example_query.tsv\"\n",
    "outputFile = \"./test_result.tsv\""
   ]
  },
  {
   "cell_type": "markdown",
   "metadata": {},
   "source": [
    "### Importing Transcripts and Queries"
   ]
  },
  {
   "cell_type": "code",
   "execution_count": 3,
   "metadata": {},
   "outputs": [],
   "source": [
    "transcriptMapper = TranscriptMapper()\n",
    "\n",
    "transcriptMapper.import_transcripts(fileTranscriptInput)\n",
    "\n",
    "transcriptMapper.import_queries(fileQueryInput)"
   ]
  },
  {
   "cell_type": "markdown",
   "metadata": {},
   "source": [
    "### Inspecting Imported Information"
   ]
  },
  {
   "cell_type": "code",
   "execution_count": 4,
   "metadata": {},
   "outputs": [
    {
     "data": {
      "text/plain": [
       "[{'name': 'TR1', 'queryPos': 4},\n",
       " {'name': 'TR2', 'queryPos': 0},\n",
       " {'name': 'TR3', 'queryPos': 0},\n",
       " {'name': 'TR1', 'queryPos': 13},\n",
       " {'name': 'TR2', 'queryPos': 10},\n",
       " {'name': 'TR3', 'queryPos': 9}]"
      ]
     },
     "execution_count": 4,
     "metadata": {},
     "output_type": "execute_result"
    }
   ],
   "source": [
    "# Retrieve all queries\n",
    "transcriptMapper.get_queries()"
   ]
  },
  {
   "cell_type": "code",
   "execution_count": 5,
   "metadata": {},
   "outputs": [
    {
     "data": {
      "text/plain": [
       "{'name': 'TR2', 'queryPos': 0}"
      ]
     },
     "execution_count": 5,
     "metadata": {},
     "output_type": "execute_result"
    }
   ],
   "source": [
    "# Retrive a single query\n",
    "transcriptMapper.get_queries(index = 1)"
   ]
  },
  {
   "cell_type": "code",
   "execution_count": 6,
   "metadata": {},
   "outputs": [
    {
     "data": {
      "text/plain": [
       "{'TR1': <nvta.transcript_utils.Transcript at 0x103c48ac8>,\n",
       " 'TR2': <nvta.transcript_utils.Transcript at 0x103c48d30>,\n",
       " 'TR3': <nvta.transcript_utils.Transcript at 0x103c48f60>}"
      ]
     },
     "execution_count": 6,
     "metadata": {},
     "output_type": "execute_result"
    }
   ],
   "source": [
    "# Retrieve all transcripts\n",
    "transcriptMapper.get_transcripts()"
   ]
  },
  {
   "cell_type": "code",
   "execution_count": 7,
   "metadata": {},
   "outputs": [
    {
     "data": {
      "text/plain": [
       "{'name': 'TR3',\n",
       " 'chrom': 'CHR1',\n",
       " 'startPos': 43,\n",
       " 'cigar': '8M7D6M2I2M11D7M',\n",
       " 'direction': '-'}"
      ]
     },
     "execution_count": 7,
     "metadata": {},
     "output_type": "execute_result"
    }
   ],
   "source": [
    "# Retrieve a single transcript\n",
    "transcriptMapper.get_transcripts(name = \"TR3\").get_info()"
   ]
  },
  {
   "cell_type": "markdown",
   "metadata": {},
   "source": [
    "### Running Queries and Inspecting Results"
   ]
  },
  {
   "cell_type": "markdown",
   "metadata": {},
   "source": [
    "#### Running a custom query (results are not saved to object)"
   ]
  },
  {
   "cell_type": "code",
   "execution_count": 8,
   "metadata": {},
   "outputs": [
    {
     "data": {
      "text/plain": [
       "{'name': 'TR3', 'inputPos': 8, 'chrom': 'CHR1', 'refPos': 24, 'direction': '-'}"
      ]
     },
     "execution_count": 8,
     "metadata": {},
     "output_type": "execute_result"
    }
   ],
   "source": [
    "transcriptMapper.run_single_query(name=\"TR3\", queryPos=8)"
   ]
  },
  {
   "cell_type": "markdown",
   "metadata": {},
   "source": [
    "#### Running all imported queries (results are saved to object)"
   ]
  },
  {
   "cell_type": "code",
   "execution_count": 9,
   "metadata": {},
   "outputs": [],
   "source": [
    "transcriptMapper.run_all_queries()"
   ]
  },
  {
   "cell_type": "markdown",
   "metadata": {},
   "source": [
    "#### Inspect results"
   ]
  },
  {
   "cell_type": "code",
   "execution_count": 10,
   "metadata": {},
   "outputs": [
    {
     "data": {
      "text/plain": [
       "{'name': 'TR2', 'inputPos': 0, 'chrom': 'CHR2', 'refPos': 10, 'direction': '+'}"
      ]
     },
     "execution_count": 10,
     "metadata": {},
     "output_type": "execute_result"
    }
   ],
   "source": [
    "# Inspect a single query result\n",
    "transcriptMapper.get_query_results(index = 1)"
   ]
  },
  {
   "cell_type": "code",
   "execution_count": 11,
   "metadata": {},
   "outputs": [
    {
     "data": {
      "text/plain": [
       "[{'name': 'TR1',\n",
       "  'inputPos': 4,\n",
       "  'chrom': 'CHR1',\n",
       "  'refPos': 7,\n",
       "  'direction': '+'},\n",
       " {'name': 'TR2',\n",
       "  'inputPos': 0,\n",
       "  'chrom': 'CHR2',\n",
       "  'refPos': 10,\n",
       "  'direction': '+'},\n",
       " {'name': 'TR3',\n",
       "  'inputPos': 0,\n",
       "  'chrom': 'CHR1',\n",
       "  'refPos': 43,\n",
       "  'direction': '-'},\n",
       " {'name': 'TR1',\n",
       "  'inputPos': 13,\n",
       "  'chrom': 'CHR1',\n",
       "  'refPos': 23,\n",
       "  'direction': '+'},\n",
       " {'name': 'TR2',\n",
       "  'inputPos': 10,\n",
       "  'chrom': 'CHR2',\n",
       "  'refPos': 20,\n",
       "  'direction': '+'},\n",
       " {'name': 'TR3',\n",
       "  'inputPos': 9,\n",
       "  'chrom': 'CHR1',\n",
       "  'refPos': 24.1,\n",
       "  'direction': '-'}]"
      ]
     },
     "execution_count": 11,
     "metadata": {},
     "output_type": "execute_result"
    }
   ],
   "source": [
    "# Get all query results\n",
    "transcriptMapper.get_query_results()"
   ]
  },
  {
   "cell_type": "markdown",
   "metadata": {},
   "source": [
    "#### Exporting all query results to an output file"
   ]
  },
  {
   "cell_type": "code",
   "execution_count": 12,
   "metadata": {},
   "outputs": [],
   "source": [
    "transcriptMapper.export_query_results(outputFile = outputFile)"
   ]
  },
  {
   "cell_type": "markdown",
   "metadata": {},
   "source": [
    "# Using `Transcript` for Flexibility"
   ]
  },
  {
   "cell_type": "markdown",
   "metadata": {},
   "source": [
    "### Initiating a single Transcript object with user supplied information"
   ]
  },
  {
   "cell_type": "code",
   "execution_count": 13,
   "metadata": {},
   "outputs": [],
   "source": [
    "from nvta.transcript_utils import Transcript"
   ]
  },
  {
   "cell_type": "code",
   "execution_count": 14,
   "metadata": {},
   "outputs": [],
   "source": [
    "singleTranscript = Transcript(name = \"TR1\", \n",
    "                              chrom = \"CHR1\", \n",
    "                              startPos = 3, \n",
    "                              cigar = \"8M7D6M2I2M11D7M\", \n",
    "                              direction = \"+\")"
   ]
  },
  {
   "cell_type": "code",
   "execution_count": 15,
   "metadata": {},
   "outputs": [
    {
     "data": {
      "text/plain": [
       "{'name': 'TR1',\n",
       " 'chrom': 'CHR1',\n",
       " 'startPos': 3,\n",
       " 'cigar': '8M7D6M2I2M11D7M',\n",
       " 'direction': '+'}"
      ]
     },
     "execution_count": 15,
     "metadata": {},
     "output_type": "execute_result"
    }
   ],
   "source": [
    "singleTranscript.get_info()"
   ]
  },
  {
   "cell_type": "markdown",
   "metadata": {},
   "source": [
    "### Translating transcript coordinates with a single transcript"
   ]
  },
  {
   "cell_type": "code",
   "execution_count": 16,
   "metadata": {},
   "outputs": [
    {
     "data": {
      "text/plain": [
       "{'name': 'TR1', 'inputPos': 0, 'chrom': 'CHR1', 'refPos': 3, 'direction': '+'}"
      ]
     },
     "execution_count": 16,
     "metadata": {},
     "output_type": "execute_result"
    }
   ],
   "source": [
    "singleTranscript.translate_coordinates(0)"
   ]
  },
  {
   "cell_type": "code",
   "execution_count": 17,
   "metadata": {},
   "outputs": [
    {
     "data": {
      "text/plain": [
       "{'name': 'TR1', 'inputPos': 9, 'chrom': 'CHR1', 'refPos': 19, 'direction': '+'}"
      ]
     },
     "execution_count": 17,
     "metadata": {},
     "output_type": "execute_result"
    }
   ],
   "source": [
    "singleTranscript.translate_coordinates(9)"
   ]
  },
  {
   "cell_type": "code",
   "execution_count": 18,
   "metadata": {},
   "outputs": [
    {
     "data": {
      "text/plain": [
       "{'name': 'TR1',\n",
       " 'inputPos': 14,\n",
       " 'chrom': 'CHR1',\n",
       " 'refPos': 23.1,\n",
       " 'direction': '+'}"
      ]
     },
     "execution_count": 18,
     "metadata": {},
     "output_type": "execute_result"
    }
   ],
   "source": [
    "singleTranscript.translate_coordinates(14)"
   ]
  },
  {
   "cell_type": "code",
   "execution_count": 19,
   "metadata": {},
   "outputs": [
    {
     "data": {
      "text/plain": [
       "{'name': 'TR1',\n",
       " 'inputPos': 15,\n",
       " 'chrom': 'CHR1',\n",
       " 'refPos': 23.2,\n",
       " 'direction': '+'}"
      ]
     },
     "execution_count": 19,
     "metadata": {},
     "output_type": "execute_result"
    }
   ],
   "source": [
    "singleTranscript.translate_coordinates(15)"
   ]
  },
  {
   "cell_type": "code",
   "execution_count": 20,
   "metadata": {},
   "outputs": [
    {
     "data": {
      "text/plain": [
       "{'name': 'TR1',\n",
       " 'inputPos': 24,\n",
       " 'chrom': 'CHR1',\n",
       " 'refPos': 43,\n",
       " 'direction': '+'}"
      ]
     },
     "execution_count": 20,
     "metadata": {},
     "output_type": "execute_result"
    }
   ],
   "source": [
    "singleTranscript.translate_coordinates(24)"
   ]
  },
  {
   "cell_type": "markdown",
   "metadata": {},
   "source": [
    "### Utility function to verify CIGAR "
   ]
  },
  {
   "cell_type": "markdown",
   "metadata": {},
   "source": [
    "#### Valid CIGAR String"
   ]
  },
  {
   "cell_type": "code",
   "execution_count": 21,
   "metadata": {},
   "outputs": [
    {
     "data": {
      "text/plain": [
       "'8M10D20I'"
      ]
     },
     "execution_count": 21,
     "metadata": {},
     "output_type": "execute_result"
    }
   ],
   "source": [
    "Transcript.verify_cigar(\"8M10D20I\")"
   ]
  },
  {
   "cell_type": "markdown",
   "metadata": {},
   "source": [
    "#### Invalid CIGAR Strings"
   ]
  },
  {
   "cell_type": "code",
   "execution_count": 22,
   "metadata": {},
   "outputs": [
    {
     "name": "stderr",
     "output_type": "stream",
     "text": [
      "Parsed information does not match original CIGAR, potentially malformatted CIGAR string.\n",
      "Input CIGAR = 8MM2D\n",
      "Parsed CIGAR = 8M2D\n"
     ]
    },
    {
     "ename": "ValueError",
     "evalue": "Malformatted CIGAR string",
     "output_type": "error",
     "traceback": [
      "\u001b[0;31m---------------------------------------------------------------------------\u001b[0m",
      "\u001b[0;31mValueError\u001b[0m                                Traceback (most recent call last)",
      "\u001b[0;32m<ipython-input-22-7ef65aec3751>\u001b[0m in \u001b[0;36m<module>\u001b[0;34m\u001b[0m\n\u001b[0;32m----> 1\u001b[0;31m \u001b[0mTranscript\u001b[0m\u001b[0;34m.\u001b[0m\u001b[0mverify_cigar\u001b[0m\u001b[0;34m(\u001b[0m\u001b[0;34m\"8MM2D\"\u001b[0m\u001b[0;34m)\u001b[0m\u001b[0;34m\u001b[0m\u001b[0;34m\u001b[0m\u001b[0m\n\u001b[0m",
      "\u001b[0;32m~/code_repos/nvta/nvta/transcript_utils.py\u001b[0m in \u001b[0;36mverify_cigar\u001b[0;34m(cigar, ignoreHSP)\u001b[0m\n\u001b[1;32m    103\u001b[0m             \u001b[0mlogger\u001b[0m\u001b[0;34m.\u001b[0m\u001b[0merror\u001b[0m\u001b[0;34m(\u001b[0m\u001b[0;34m\"Input CIGAR = {}\"\u001b[0m\u001b[0;34m.\u001b[0m\u001b[0mformat\u001b[0m\u001b[0;34m(\u001b[0m\u001b[0mcigar\u001b[0m\u001b[0;34m)\u001b[0m\u001b[0;34m)\u001b[0m\u001b[0;34m\u001b[0m\u001b[0;34m\u001b[0m\u001b[0m\n\u001b[1;32m    104\u001b[0m             \u001b[0mlogger\u001b[0m\u001b[0;34m.\u001b[0m\u001b[0merror\u001b[0m\u001b[0;34m(\u001b[0m\u001b[0;34m\"Parsed CIGAR = {}\"\u001b[0m\u001b[0;34m.\u001b[0m\u001b[0mformat\u001b[0m\u001b[0;34m(\u001b[0m\u001b[0mreconstruct\u001b[0m\u001b[0;34m)\u001b[0m\u001b[0;34m)\u001b[0m\u001b[0;34m\u001b[0m\u001b[0;34m\u001b[0m\u001b[0m\n\u001b[0;32m--> 105\u001b[0;31m             \u001b[0;32mraise\u001b[0m \u001b[0mValueError\u001b[0m\u001b[0;34m(\u001b[0m\u001b[0;34m\"Malformatted CIGAR string\"\u001b[0m\u001b[0;34m)\u001b[0m\u001b[0;34m\u001b[0m\u001b[0;34m\u001b[0m\u001b[0m\n\u001b[0m\u001b[1;32m    106\u001b[0m \u001b[0;34m\u001b[0m\u001b[0m\n\u001b[1;32m    107\u001b[0m         \u001b[0;32mreturn\u001b[0m \u001b[0mcigar\u001b[0m\u001b[0;34m\u001b[0m\u001b[0;34m\u001b[0m\u001b[0m\n",
      "\u001b[0;31mValueError\u001b[0m: Malformatted CIGAR string"
     ]
    }
   ],
   "source": [
    "Transcript.verify_cigar(\"8MM2D\")"
   ]
  },
  {
   "cell_type": "code",
   "execution_count": 23,
   "metadata": {},
   "outputs": [
    {
     "name": "stderr",
     "output_type": "stream",
     "text": [
      "Invalid CIGAR string character detected U\n"
     ]
    },
    {
     "ename": "ValueError",
     "evalue": "Invalid CIGAR string character",
     "output_type": "error",
     "traceback": [
      "\u001b[0;31m---------------------------------------------------------------------------\u001b[0m",
      "\u001b[0;31mValueError\u001b[0m                                Traceback (most recent call last)",
      "\u001b[0;32m<ipython-input-23-0220ffceebc5>\u001b[0m in \u001b[0;36m<module>\u001b[0;34m\u001b[0m\n\u001b[0;32m----> 1\u001b[0;31m \u001b[0mTranscript\u001b[0m\u001b[0;34m.\u001b[0m\u001b[0mverify_cigar\u001b[0m\u001b[0;34m(\u001b[0m\u001b[0;34m\"8M2D10U\"\u001b[0m\u001b[0;34m)\u001b[0m\u001b[0;34m\u001b[0m\u001b[0;34m\u001b[0m\u001b[0m\n\u001b[0m",
      "\u001b[0;32m~/code_repos/nvta/nvta/transcript_utils.py\u001b[0m in \u001b[0;36mverify_cigar\u001b[0;34m(cigar, ignoreHSP)\u001b[0m\n\u001b[1;32m     88\u001b[0m                 logger.error((\"Invalid CIGAR string character detected \"\n\u001b[1;32m     89\u001b[0m                               \"{}\".format(opChar)))\n\u001b[0;32m---> 90\u001b[0;31m                 \u001b[0;32mraise\u001b[0m \u001b[0mValueError\u001b[0m\u001b[0;34m(\u001b[0m\u001b[0;34m\"Invalid CIGAR string character\"\u001b[0m\u001b[0;34m)\u001b[0m\u001b[0;34m\u001b[0m\u001b[0;34m\u001b[0m\u001b[0m\n\u001b[0m\u001b[1;32m     91\u001b[0m \u001b[0;34m\u001b[0m\u001b[0m\n\u001b[1;32m     92\u001b[0m             \u001b[0;32mif\u001b[0m \u001b[0mopChar\u001b[0m \u001b[0;32min\u001b[0m \u001b[0;34m[\u001b[0m\u001b[0;34m'H'\u001b[0m\u001b[0;34m,\u001b[0m \u001b[0;34m'S'\u001b[0m\u001b[0;34m,\u001b[0m \u001b[0;34m'P'\u001b[0m\u001b[0;34m]\u001b[0m\u001b[0;34m:\u001b[0m\u001b[0;34m\u001b[0m\u001b[0;34m\u001b[0m\u001b[0m\n",
      "\u001b[0;31mValueError\u001b[0m: Invalid CIGAR string character"
     ]
    }
   ],
   "source": [
    "Transcript.verify_cigar(\"8M2D10U\")"
   ]
  },
  {
   "cell_type": "markdown",
   "metadata": {},
   "source": [
    "#### Default behavior is to raise an error when H, S, or P operations are encountered"
   ]
  },
  {
   "cell_type": "code",
   "execution_count": 24,
   "metadata": {},
   "outputs": [
    {
     "name": "stderr",
     "output_type": "stream",
     "text": [
      "CIGAR parser does not support logic for H\n"
     ]
    },
    {
     "ename": "ValueError",
     "evalue": "Unsupported CIGAR character",
     "output_type": "error",
     "traceback": [
      "\u001b[0;31m---------------------------------------------------------------------------\u001b[0m",
      "\u001b[0;31mValueError\u001b[0m                                Traceback (most recent call last)",
      "\u001b[0;32m<ipython-input-24-e427dbd4239d>\u001b[0m in \u001b[0;36m<module>\u001b[0;34m\u001b[0m\n\u001b[0;32m----> 1\u001b[0;31m \u001b[0mTranscript\u001b[0m\u001b[0;34m.\u001b[0m\u001b[0mverify_cigar\u001b[0m\u001b[0;34m(\u001b[0m\u001b[0;34m\"8M8H\"\u001b[0m\u001b[0;34m)\u001b[0m\u001b[0;34m\u001b[0m\u001b[0;34m\u001b[0m\u001b[0m\n\u001b[0m",
      "\u001b[0;32m~/code_repos/nvta/nvta/transcript_utils.py\u001b[0m in \u001b[0;36mverify_cigar\u001b[0;34m(cigar, ignoreHSP)\u001b[0m\n\u001b[1;32m     94\u001b[0m                     logger.error((\"CIGAR parser does not support logic \"\n\u001b[1;32m     95\u001b[0m                                   \"for {}\".format(opChar)))\n\u001b[0;32m---> 96\u001b[0;31m                     \u001b[0;32mraise\u001b[0m \u001b[0mValueError\u001b[0m\u001b[0;34m(\u001b[0m\u001b[0;34m\"Unsupported CIGAR character\"\u001b[0m\u001b[0;34m)\u001b[0m\u001b[0;34m\u001b[0m\u001b[0;34m\u001b[0m\u001b[0m\n\u001b[0m\u001b[1;32m     97\u001b[0m \u001b[0;34m\u001b[0m\u001b[0m\n\u001b[1;32m     98\u001b[0m             \u001b[0mreconstruct\u001b[0m \u001b[0;34m+=\u001b[0m \u001b[0mcigarEntry\u001b[0m\u001b[0;34m[\u001b[0m\u001b[0;36m0\u001b[0m\u001b[0;34m]\u001b[0m \u001b[0;34m+\u001b[0m \u001b[0mcigarEntry\u001b[0m\u001b[0;34m[\u001b[0m\u001b[0;36m1\u001b[0m\u001b[0;34m]\u001b[0m\u001b[0;34m\u001b[0m\u001b[0;34m\u001b[0m\u001b[0m\n",
      "\u001b[0;31mValueError\u001b[0m: Unsupported CIGAR character"
     ]
    }
   ],
   "source": [
    "Transcript.verify_cigar(\"8M8H\")"
   ]
  },
  {
   "cell_type": "markdown",
   "metadata": {},
   "source": [
    "#### For verifying CIGARs that are not going to be used for coordinate translation, H, S, and P operations can be ignored"
   ]
  },
  {
   "cell_type": "code",
   "execution_count": 25,
   "metadata": {},
   "outputs": [
    {
     "data": {
      "text/plain": [
       "'8M8H'"
      ]
     },
     "execution_count": 25,
     "metadata": {},
     "output_type": "execute_result"
    }
   ],
   "source": [
    "Transcript.verify_cigar(\"8M8H\",ignoreHSP = True)"
   ]
  }
 ],
 "metadata": {
  "kernelspec": {
   "display_name": "oncocat",
   "language": "python",
   "name": "oncocat"
  },
  "language_info": {
   "codemirror_mode": {
    "name": "ipython",
    "version": 3
   },
   "file_extension": ".py",
   "mimetype": "text/x-python",
   "name": "python",
   "nbconvert_exporter": "python",
   "pygments_lexer": "ipython3",
   "version": "3.6.7"
  }
 },
 "nbformat": 4,
 "nbformat_minor": 4
}
